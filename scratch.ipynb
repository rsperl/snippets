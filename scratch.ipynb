{
 "cells": [
  {
   "cell_type": "code",
   "execution_count": null,
   "metadata": {},
   "outputs": [],
   "source": [
    "import json\n",
    "import requests \n",
    "\n",
    "OS_TYPE = 'darwin'\n",
    "\n",
    "with open(\"/tmp/releases.json\", \"r\") as fh:\n",
    "    versions = json.load(fh)\n",
    "    \n",
    "def list_releases(os_type: str = OS_TYPE) -> list[str]:\n",
    "    u = f\"https://update.code.visualstudio.com/api/commits/insider/{os_type}\"\n",
    "    print(f\"Getting releases from {u}\")\n",
    "    resp = requests.get(u)\n",
    "    return json.loads(resp.content.decode())\n",
    "\n",
    "def rollback(n: int, from_version: str) -> str:\n",
    "    \"\"\"\n",
    "    Get the Nth release before version from_version\n",
    "    \"\"\"\n",
    "    versions = list_releases()\n",
    "    i = versions.index(from_version) + n\n",
    "    return versions[i]\n",
    "\n",
    "current_version = \"1379f0375440df946adc62f7afb8375dd45d5adf\"\n",
    "\n",
    "result = rollback(1, current_version)\n",
    "print(result)"
   ]
  },
  {
   "cell_type": "code",
   "execution_count": null,
   "metadata": {},
   "outputs": [],
   "source": [
    "import platform\n",
    "\n",
    "print(platform.version())"
   ]
  }
 ],
 "metadata": {
  "kernelspec": {
   "display_name": "Python 3",
   "language": "python",
   "name": "python3"
  },
  "language_info": {
   "name": "python",
   "version": "3.9.0"
  },
  "orig_nbformat": 4,
  "vscode": {
   "interpreter": {
    "hash": "f810f8d9b3a5b17f9adcda004eaeac18ddba24be70b73f9fb73732bc77f37c8c"
   }
  }
 },
 "nbformat": 4,
 "nbformat_minor": 2
}
