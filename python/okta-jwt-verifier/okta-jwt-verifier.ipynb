{
 "cells": [
  {
   "cell_type": "code",
   "execution_count": null,
   "metadata": {},
   "outputs": [],
   "source": [
    "import asyncio\n",
    "import okta_jwt_verifier as o\n",
    "import json \n",
    "\n",
    "## needed only for jupyter\n",
    "import nest_asyncio\n",
    "nest_asyncio.apply()\n",
    "# __import__('IPython').embed()\n",
    "##\n",
    "\n",
    "# copy raw token to a file\n",
    "raw_token_file = \"jwt_token.txt\" \n",
    "with open(raw_token_file) as fh:\n",
    "    raw_token = fh.read()\n",
    "\n",
    "auth_server = \"https://x.com\"\n",
    "issuer = f\"{auth_server}/oauth2/xxx\"\n",
    "client_id = \"xxxx\"\n",
    "\n",
    "\n",
    "\n",
    "\n",
    "async def main():\n",
    "    print(\"main parsing token\")\n",
    "    headers, claims, signing_input, signature = o.jwt_utils.JWTUtils().parse_token(raw_token)\n",
    "    print(f\"{headers=}\")\n",
    "    print(json.dumps(claims, indent=2))\n",
    "    print(f\"{signing_input=}\")\n",
    "    print(f\"{signature=}\")\n",
    "    \n",
    "\n",
    "    print(\"main verify access token\")\n",
    "    accessVerifier = o.AccessTokenVerifier(issuer=issuer)\n",
    "    await accessVerifier.verify(token=raw_token)\n",
    "\n",
    "    \n",
    "\n",
    "loop = asyncio.get_event_loop()\n",
    "loop.run_until_complete(main())\n",
    "\n"
   ]
  }
 ],
 "metadata": {
  "kernelspec": {
   "display_name": "Python 3.9.0 64-bit",
   "language": "python",
   "name": "python3"
  },
  "language_info": {
   "name": "python",
   "version": "3.9.0"
  },
  "orig_nbformat": 4,
  "vscode": {
   "interpreter": {
    "hash": "f810f8d9b3a5b17f9adcda004eaeac18ddba24be70b73f9fb73732bc77f37c8c"
   }
  }
 },
 "nbformat": 4,
 "nbformat_minor": 2
}
